{
 "cells": [
  {
   "cell_type": "code",
   "execution_count": 1,
   "metadata": {
    "collapsed": false,
    "deletable": true,
    "editable": true
   },
   "outputs": [],
   "source": [
    "# this example script is from \n",
    "# (1) http://hmmlearn.readthedocs.io/en/latest/tutorial.html\n",
    "# (2) https://pandas-datareader.readthedocs.io/en/latest/ \n",
    "# (3) scikit-learn /examples/plot_hmm_stock_analysis.py\n",
    "\n",
    "import numpy as np\n",
    "from hmmlearn import hmm\n",
    "import pandas_datareader.data as web\n",
    "import datetime\n",
    "from sklearn.utils import check_array\n",
    "\n",
    "\n",
    "start = datetime.datetime(2010, 1, 1)\n",
    "end = datetime.datetime(2013, 1, 27)\n",
    "df = web.DataReader(\"F\", 'google', start, end)"
   ]
  },
  {
   "cell_type": "code",
   "execution_count": 2,
   "metadata": {
    "collapsed": false,
    "deletable": true,
    "editable": true,
    "scrolled": true
   },
   "outputs": [
    {
     "data": {
      "text/html": [
       "<div>\n",
       "<table border=\"1\" class=\"dataframe\">\n",
       "  <thead>\n",
       "    <tr style=\"text-align: right;\">\n",
       "      <th></th>\n",
       "      <th>Open</th>\n",
       "      <th>High</th>\n",
       "      <th>Low</th>\n",
       "      <th>Close</th>\n",
       "      <th>Volume</th>\n",
       "    </tr>\n",
       "    <tr>\n",
       "      <th>Date</th>\n",
       "      <th></th>\n",
       "      <th></th>\n",
       "      <th></th>\n",
       "      <th></th>\n",
       "      <th></th>\n",
       "    </tr>\n",
       "  </thead>\n",
       "  <tbody>\n",
       "    <tr>\n",
       "      <th>2010-01-04</th>\n",
       "      <td>10.17</td>\n",
       "      <td>10.28</td>\n",
       "      <td>10.05</td>\n",
       "      <td>10.28</td>\n",
       "      <td>60855796</td>\n",
       "    </tr>\n",
       "    <tr>\n",
       "      <th>2010-01-05</th>\n",
       "      <td>10.45</td>\n",
       "      <td>11.24</td>\n",
       "      <td>10.40</td>\n",
       "      <td>10.96</td>\n",
       "      <td>215620138</td>\n",
       "    </tr>\n",
       "    <tr>\n",
       "      <th>2010-01-06</th>\n",
       "      <td>11.21</td>\n",
       "      <td>11.46</td>\n",
       "      <td>11.13</td>\n",
       "      <td>11.37</td>\n",
       "      <td>200070554</td>\n",
       "    </tr>\n",
       "    <tr>\n",
       "      <th>2010-01-07</th>\n",
       "      <td>11.46</td>\n",
       "      <td>11.69</td>\n",
       "      <td>11.32</td>\n",
       "      <td>11.66</td>\n",
       "      <td>130201626</td>\n",
       "    </tr>\n",
       "    <tr>\n",
       "      <th>2010-01-08</th>\n",
       "      <td>11.67</td>\n",
       "      <td>11.74</td>\n",
       "      <td>11.46</td>\n",
       "      <td>11.69</td>\n",
       "      <td>130462912</td>\n",
       "    </tr>\n",
       "  </tbody>\n",
       "</table>\n",
       "</div>"
      ],
      "text/plain": [
       "             Open   High    Low  Close     Volume\n",
       "Date                                             \n",
       "2010-01-04  10.17  10.28  10.05  10.28   60855796\n",
       "2010-01-05  10.45  11.24  10.40  10.96  215620138\n",
       "2010-01-06  11.21  11.46  11.13  11.37  200070554\n",
       "2010-01-07  11.46  11.69  11.32  11.66  130201626\n",
       "2010-01-08  11.67  11.74  11.46  11.69  130462912"
      ]
     },
     "execution_count": 2,
     "metadata": {},
     "output_type": "execute_result"
    }
   ],
   "source": [
    "df.head()"
   ]
  },
  {
   "cell_type": "code",
   "execution_count": 3,
   "metadata": {
    "collapsed": true,
    "deletable": true,
    "editable": true
   },
   "outputs": [],
   "source": [
    "df['Date'] = df.index"
   ]
  },
  {
   "cell_type": "code",
   "execution_count": 4,
   "metadata": {
    "collapsed": false,
    "deletable": true,
    "editable": true
   },
   "outputs": [
    {
     "data": {
      "text/html": [
       "<div>\n",
       "<table border=\"1\" class=\"dataframe\">\n",
       "  <thead>\n",
       "    <tr style=\"text-align: right;\">\n",
       "      <th></th>\n",
       "      <th>Open</th>\n",
       "      <th>High</th>\n",
       "      <th>Low</th>\n",
       "      <th>Close</th>\n",
       "      <th>Volume</th>\n",
       "      <th>Date</th>\n",
       "    </tr>\n",
       "    <tr>\n",
       "      <th>Date</th>\n",
       "      <th></th>\n",
       "      <th></th>\n",
       "      <th></th>\n",
       "      <th></th>\n",
       "      <th></th>\n",
       "      <th></th>\n",
       "    </tr>\n",
       "  </thead>\n",
       "  <tbody>\n",
       "    <tr>\n",
       "      <th>2010-01-04</th>\n",
       "      <td>10.17</td>\n",
       "      <td>10.28</td>\n",
       "      <td>10.05</td>\n",
       "      <td>10.28</td>\n",
       "      <td>60855796</td>\n",
       "      <td>2010-01-04</td>\n",
       "    </tr>\n",
       "    <tr>\n",
       "      <th>2010-01-05</th>\n",
       "      <td>10.45</td>\n",
       "      <td>11.24</td>\n",
       "      <td>10.40</td>\n",
       "      <td>10.96</td>\n",
       "      <td>215620138</td>\n",
       "      <td>2010-01-05</td>\n",
       "    </tr>\n",
       "    <tr>\n",
       "      <th>2010-01-06</th>\n",
       "      <td>11.21</td>\n",
       "      <td>11.46</td>\n",
       "      <td>11.13</td>\n",
       "      <td>11.37</td>\n",
       "      <td>200070554</td>\n",
       "      <td>2010-01-06</td>\n",
       "    </tr>\n",
       "    <tr>\n",
       "      <th>2010-01-07</th>\n",
       "      <td>11.46</td>\n",
       "      <td>11.69</td>\n",
       "      <td>11.32</td>\n",
       "      <td>11.66</td>\n",
       "      <td>130201626</td>\n",
       "      <td>2010-01-07</td>\n",
       "    </tr>\n",
       "    <tr>\n",
       "      <th>2010-01-08</th>\n",
       "      <td>11.67</td>\n",
       "      <td>11.74</td>\n",
       "      <td>11.46</td>\n",
       "      <td>11.69</td>\n",
       "      <td>130462912</td>\n",
       "      <td>2010-01-08</td>\n",
       "    </tr>\n",
       "  </tbody>\n",
       "</table>\n",
       "</div>"
      ],
      "text/plain": [
       "             Open   High    Low  Close     Volume       Date\n",
       "Date                                                        \n",
       "2010-01-04  10.17  10.28  10.05  10.28   60855796 2010-01-04\n",
       "2010-01-05  10.45  11.24  10.40  10.96  215620138 2010-01-05\n",
       "2010-01-06  11.21  11.46  11.13  11.37  200070554 2010-01-06\n",
       "2010-01-07  11.46  11.69  11.32  11.66  130201626 2010-01-07\n",
       "2010-01-08  11.67  11.74  11.46  11.69  130462912 2010-01-08"
      ]
     },
     "execution_count": 4,
     "metadata": {},
     "output_type": "execute_result"
    }
   ],
   "source": [
    "df.head()"
   ]
  },
  {
   "cell_type": "code",
   "execution_count": 5,
   "metadata": {
    "collapsed": false,
    "deletable": true,
    "editable": true
   },
   "outputs": [
    {
     "data": {
      "text/plain": [
       "Date\n",
       "2010-01-04    10.28\n",
       "2010-01-05    10.96\n",
       "2010-01-06    11.37\n",
       "2010-01-07    11.66\n",
       "2010-01-08    11.69\n",
       "2010-01-11    12.11\n",
       "2010-01-12    11.87\n",
       "2010-01-13    11.68\n",
       "2010-01-14    11.76\n",
       "2010-01-15    11.60\n",
       "2010-01-19    11.75\n",
       "2010-01-20    11.51\n",
       "2010-01-21    11.18\n",
       "2010-01-22    10.52\n",
       "2010-01-25    11.03\n",
       "2010-01-26    11.19\n",
       "2010-01-27    11.55\n",
       "2010-01-28    11.41\n",
       "2010-01-29    10.84\n",
       "2010-02-01    11.12\n",
       "2010-02-02    11.39\n",
       "2010-02-03    11.64\n",
       "2010-02-04    11.06\n",
       "2010-02-05    10.91\n",
       "2010-02-08    10.97\n",
       "2010-02-09    11.15\n",
       "2010-02-10    10.94\n",
       "2010-02-11    11.18\n",
       "2010-02-12    11.12\n",
       "2010-02-16    11.32\n",
       "              ...  \n",
       "2012-12-12    11.47\n",
       "2012-12-13    11.27\n",
       "2012-12-14    11.10\n",
       "2012-12-17    11.39\n",
       "2012-12-18    11.67\n",
       "2012-12-19    11.73\n",
       "2012-12-20    11.77\n",
       "2012-12-21    11.86\n",
       "2012-12-24    12.40\n",
       "2012-12-26    12.79\n",
       "2012-12-27    12.76\n",
       "2012-12-28    12.87\n",
       "2012-12-31    12.95\n",
       "2013-01-02    13.20\n",
       "2013-01-03    13.46\n",
       "2013-01-04    13.57\n",
       "2013-01-07    13.43\n",
       "2013-01-08    13.35\n",
       "2013-01-09    13.47\n",
       "2013-01-10    13.83\n",
       "2013-01-11    14.00\n",
       "2013-01-14    13.99\n",
       "2013-01-15    14.30\n",
       "2013-01-16    14.22\n",
       "2013-01-17    14.22\n",
       "2013-01-18    14.11\n",
       "2013-01-22    14.17\n",
       "2013-01-23    13.88\n",
       "2013-01-24    13.87\n",
       "2013-01-25    13.68\n",
       "Name: Close, dtype: float64"
      ]
     },
     "execution_count": 5,
     "metadata": {},
     "output_type": "execute_result"
    }
   ],
   "source": [
    "df[\"Close\"]"
   ]
  },
  {
   "cell_type": "code",
   "execution_count": 6,
   "metadata": {
    "collapsed": false,
    "deletable": true,
    "editable": true
   },
   "outputs": [
    {
     "data": {
      "text/plain": [
       "Date\n",
       "2010-01-04     60855796\n",
       "2010-01-05    215620138\n",
       "2010-01-06    200070554\n",
       "2010-01-07    130201626\n",
       "2010-01-08    130462912\n",
       "2010-01-11    170626174\n",
       "2010-01-12    162995898\n",
       "2010-01-13    154527028\n",
       "2010-01-14    116572673\n",
       "2010-01-15     96174717\n",
       "2010-01-19     65933944\n",
       "2010-01-20     71649459\n",
       "2010-01-21    121451396\n",
       "2010-01-22    161530010\n",
       "2010-01-25    121621423\n",
       "2010-01-26    108250462\n",
       "2010-01-27    105091531\n",
       "2010-01-28    203466724\n",
       "2010-01-29    159741164\n",
       "2010-02-01     82748130\n",
       "2010-02-02    119785377\n",
       "2010-02-03     90125495\n",
       "2010-02-04    129792142\n",
       "2010-02-05    181535182\n",
       "2010-02-08     92031327\n",
       "2010-02-09     83207091\n",
       "2010-02-10     73395561\n",
       "2010-02-11     65116156\n",
       "2010-02-12     69465400\n",
       "2010-02-16     62537480\n",
       "                ...    \n",
       "2012-12-12     31104469\n",
       "2012-12-13     35445838\n",
       "2012-12-14     36936323\n",
       "2012-12-17     46998706\n",
       "2012-12-18     61814946\n",
       "2012-12-19     54886619\n",
       "2012-12-20     47756287\n",
       "2012-12-21     94519480\n",
       "2012-12-24     91734838\n",
       "2012-12-26    140331857\n",
       "2012-12-27    108315027\n",
       "2012-12-28     95668559\n",
       "2012-12-31    106936306\n",
       "2013-01-02     75274979\n",
       "2013-01-03    121284681\n",
       "2013-01-04     54674987\n",
       "2013-01-07     43482370\n",
       "2013-01-08     46336615\n",
       "2013-01-09     36980742\n",
       "2013-01-10     84885422\n",
       "2013-01-11     67646787\n",
       "2013-01-14     46224784\n",
       "2013-01-15     55424950\n",
       "2013-01-16     51453381\n",
       "2013-01-17     44299777\n",
       "2013-01-18     45726597\n",
       "2013-01-22     35475103\n",
       "2013-01-23     58122134\n",
       "2013-01-24     42536100\n",
       "2013-01-25     53405308\n",
       "Name: Volume, dtype: int64"
      ]
     },
     "execution_count": 6,
     "metadata": {},
     "output_type": "execute_result"
    }
   ],
   "source": [
    "df[\"Volume\"]"
   ]
  },
  {
   "cell_type": "code",
   "execution_count": 7,
   "metadata": {
    "collapsed": true,
    "deletable": true,
    "editable": true
   },
   "outputs": [],
   "source": [
    "volume = df[\"Volume\"].as_matrix()[1:]"
   ]
  },
  {
   "cell_type": "code",
   "execution_count": 8,
   "metadata": {
    "collapsed": true,
    "deletable": true,
    "editable": true
   },
   "outputs": [],
   "source": [
    "dates = df[\"Date\"].as_matrix()[1:]"
   ]
  },
  {
   "cell_type": "code",
   "execution_count": 9,
   "metadata": {
    "collapsed": true,
    "deletable": true,
    "editable": true
   },
   "outputs": [],
   "source": [
    "close_v = df[\"Close\"].as_matrix()"
   ]
  },
  {
   "cell_type": "code",
   "execution_count": 10,
   "metadata": {
    "collapsed": true,
    "deletable": true,
    "editable": true
   },
   "outputs": [],
   "source": [
    "diff = close_v[1:] - close_v[:-1]"
   ]
  },
  {
   "cell_type": "code",
   "execution_count": 11,
   "metadata": {
    "collapsed": false,
    "deletable": true,
    "editable": true
   },
   "outputs": [],
   "source": [
    "X = np.column_stack([diff, volume])"
   ]
  },
  {
   "cell_type": "code",
   "execution_count": 12,
   "metadata": {
    "collapsed": false,
    "deletable": true,
    "editable": true
   },
   "outputs": [
    {
     "name": "stdout",
     "output_type": "stream",
     "text": [
      "[[  6.80000000e-01   2.15620138e+08]\n",
      " [  4.10000000e-01   2.00070554e+08]\n",
      " [  2.90000000e-01   1.30201626e+08]\n",
      " [  3.00000000e-02   1.30462912e+08]\n",
      " [  4.20000000e-01   1.70626174e+08]\n",
      " [ -2.40000000e-01   1.62995898e+08]\n",
      " [ -1.90000000e-01   1.54527028e+08]\n",
      " [  8.00000000e-02   1.16572673e+08]\n",
      " [ -1.60000000e-01   9.61747170e+07]\n",
      " [  1.50000000e-01   6.59339440e+07]]\n"
     ]
    }
   ],
   "source": [
    "print X[0:10]"
   ]
  },
  {
   "cell_type": "code",
   "execution_count": 13,
   "metadata": {
    "collapsed": false,
    "deletable": true,
    "editable": true
   },
   "outputs": [
    {
     "name": "stdout",
     "output_type": "stream",
     "text": [
      "(770, 2)\n"
     ]
    }
   ],
   "source": [
    "print X.shape"
   ]
  },
  {
   "cell_type": "code",
   "execution_count": 14,
   "metadata": {
    "collapsed": false,
    "deletable": true,
    "editable": true
   },
   "outputs": [],
   "source": [
    "n_components = 5\n",
    "model = hmm.GaussianHMM(n_components, covariance_type=\"diag\", n_iter=100)"
   ]
  },
  {
   "cell_type": "code",
   "execution_count": 15,
   "metadata": {
    "collapsed": false,
    "deletable": true,
    "editable": true
   },
   "outputs": [
    {
     "name": "stdout",
     "output_type": "stream",
     "text": [
      "... warning from sklearn gmm ...\n",
      "\n"
     ]
    },
    {
     "name": "stderr",
     "output_type": "stream",
     "text": [
      "/usr/local/lib/python2.7/dist-packages/sklearn/utils/deprecation.py:70: DeprecationWarning: Function distribute_covar_matrix_to_match_covariance_type is deprecated; The functon distribute_covar_matrix_to_match_covariance_typeis deprecated in 0.18 and will be removed in 0.20.\n",
      "  warnings.warn(msg, category=DeprecationWarning)\n",
      "/usr/local/lib/python2.7/dist-packages/sklearn/utils/deprecation.py:70: DeprecationWarning: Function log_multivariate_normal_density is deprecated; The function log_multivariate_normal_density is deprecated in 0.18 and will be removed in 0.20.\n",
      "  warnings.warn(msg, category=DeprecationWarning)\n",
      "/usr/local/lib/python2.7/dist-packages/sklearn/utils/deprecation.py:70: DeprecationWarning: Function log_multivariate_normal_density is deprecated; The function log_multivariate_normal_density is deprecated in 0.18 and will be removed in 0.20.\n",
      "  warnings.warn(msg, category=DeprecationWarning)\n",
      "/usr/local/lib/python2.7/dist-packages/sklearn/utils/deprecation.py:70: DeprecationWarning: Function log_multivariate_normal_density is deprecated; The function log_multivariate_normal_density is deprecated in 0.18 and will be removed in 0.20.\n",
      "  warnings.warn(msg, category=DeprecationWarning)\n",
      "/usr/local/lib/python2.7/dist-packages/sklearn/utils/deprecation.py:70: DeprecationWarning: Function log_multivariate_normal_density is deprecated; The function log_multivariate_normal_density is deprecated in 0.18 and will be removed in 0.20.\n",
      "  warnings.warn(msg, category=DeprecationWarning)\n",
      "/usr/local/lib/python2.7/dist-packages/sklearn/utils/deprecation.py:70: DeprecationWarning: Function log_multivariate_normal_density is deprecated; The function log_multivariate_normal_density is deprecated in 0.18 and will be removed in 0.20.\n",
      "  warnings.warn(msg, category=DeprecationWarning)\n",
      "/usr/local/lib/python2.7/dist-packages/sklearn/utils/deprecation.py:70: DeprecationWarning: Function log_multivariate_normal_density is deprecated; The function log_multivariate_normal_density is deprecated in 0.18 and will be removed in 0.20.\n",
      "  warnings.warn(msg, category=DeprecationWarning)\n",
      "/usr/local/lib/python2.7/dist-packages/sklearn/utils/deprecation.py:70: DeprecationWarning: Function log_multivariate_normal_density is deprecated; The function log_multivariate_normal_density is deprecated in 0.18 and will be removed in 0.20.\n",
      "  warnings.warn(msg, category=DeprecationWarning)\n",
      "/usr/local/lib/python2.7/dist-packages/sklearn/utils/deprecation.py:70: DeprecationWarning: Function log_multivariate_normal_density is deprecated; The function log_multivariate_normal_density is deprecated in 0.18 and will be removed in 0.20.\n",
      "  warnings.warn(msg, category=DeprecationWarning)\n",
      "/usr/local/lib/python2.7/dist-packages/sklearn/utils/deprecation.py:70: DeprecationWarning: Function log_multivariate_normal_density is deprecated; The function log_multivariate_normal_density is deprecated in 0.18 and will be removed in 0.20.\n",
      "  warnings.warn(msg, category=DeprecationWarning)\n",
      "/usr/local/lib/python2.7/dist-packages/sklearn/utils/deprecation.py:70: DeprecationWarning: Function log_multivariate_normal_density is deprecated; The function log_multivariate_normal_density is deprecated in 0.18 and will be removed in 0.20.\n",
      "  warnings.warn(msg, category=DeprecationWarning)\n",
      "/usr/local/lib/python2.7/dist-packages/sklearn/utils/deprecation.py:70: DeprecationWarning: Function log_multivariate_normal_density is deprecated; The function log_multivariate_normal_density is deprecated in 0.18 and will be removed in 0.20.\n",
      "  warnings.warn(msg, category=DeprecationWarning)\n",
      "/usr/local/lib/python2.7/dist-packages/sklearn/utils/deprecation.py:70: DeprecationWarning: Function log_multivariate_normal_density is deprecated; The function log_multivariate_normal_density is deprecated in 0.18 and will be removed in 0.20.\n",
      "  warnings.warn(msg, category=DeprecationWarning)\n",
      "/usr/local/lib/python2.7/dist-packages/sklearn/utils/deprecation.py:70: DeprecationWarning: Function log_multivariate_normal_density is deprecated; The function log_multivariate_normal_density is deprecated in 0.18 and will be removed in 0.20.\n",
      "  warnings.warn(msg, category=DeprecationWarning)\n",
      "/usr/local/lib/python2.7/dist-packages/sklearn/utils/deprecation.py:70: DeprecationWarning: Function log_multivariate_normal_density is deprecated; The function log_multivariate_normal_density is deprecated in 0.18 and will be removed in 0.20.\n",
      "  warnings.warn(msg, category=DeprecationWarning)\n",
      "/usr/local/lib/python2.7/dist-packages/sklearn/utils/deprecation.py:70: DeprecationWarning: Function log_multivariate_normal_density is deprecated; The function log_multivariate_normal_density is deprecated in 0.18 and will be removed in 0.20.\n",
      "  warnings.warn(msg, category=DeprecationWarning)\n",
      "/usr/local/lib/python2.7/dist-packages/sklearn/utils/deprecation.py:70: DeprecationWarning: Function log_multivariate_normal_density is deprecated; The function log_multivariate_normal_density is deprecated in 0.18 and will be removed in 0.20.\n",
      "  warnings.warn(msg, category=DeprecationWarning)\n",
      "/usr/local/lib/python2.7/dist-packages/sklearn/utils/deprecation.py:70: DeprecationWarning: Function log_multivariate_normal_density is deprecated; The function log_multivariate_normal_density is deprecated in 0.18 and will be removed in 0.20.\n",
      "  warnings.warn(msg, category=DeprecationWarning)\n",
      "/usr/local/lib/python2.7/dist-packages/sklearn/utils/deprecation.py:70: DeprecationWarning: Function log_multivariate_normal_density is deprecated; The function log_multivariate_normal_density is deprecated in 0.18 and will be removed in 0.20.\n",
      "  warnings.warn(msg, category=DeprecationWarning)\n",
      "/usr/local/lib/python2.7/dist-packages/sklearn/utils/deprecation.py:70: DeprecationWarning: Function log_multivariate_normal_density is deprecated; The function log_multivariate_normal_density is deprecated in 0.18 and will be removed in 0.20.\n",
      "  warnings.warn(msg, category=DeprecationWarning)\n",
      "/usr/local/lib/python2.7/dist-packages/sklearn/utils/deprecation.py:70: DeprecationWarning: Function log_multivariate_normal_density is deprecated; The function log_multivariate_normal_density is deprecated in 0.18 and will be removed in 0.20.\n",
      "  warnings.warn(msg, category=DeprecationWarning)\n",
      "/usr/local/lib/python2.7/dist-packages/sklearn/utils/deprecation.py:70: DeprecationWarning: Function log_multivariate_normal_density is deprecated; The function log_multivariate_normal_density is deprecated in 0.18 and will be removed in 0.20.\n",
      "  warnings.warn(msg, category=DeprecationWarning)\n",
      "/usr/local/lib/python2.7/dist-packages/sklearn/utils/deprecation.py:70: DeprecationWarning: Function log_multivariate_normal_density is deprecated; The function log_multivariate_normal_density is deprecated in 0.18 and will be removed in 0.20.\n",
      "  warnings.warn(msg, category=DeprecationWarning)\n",
      "/usr/local/lib/python2.7/dist-packages/sklearn/utils/deprecation.py:70: DeprecationWarning: Function log_multivariate_normal_density is deprecated; The function log_multivariate_normal_density is deprecated in 0.18 and will be removed in 0.20.\n",
      "  warnings.warn(msg, category=DeprecationWarning)\n",
      "/usr/local/lib/python2.7/dist-packages/sklearn/utils/deprecation.py:70: DeprecationWarning: Function log_multivariate_normal_density is deprecated; The function log_multivariate_normal_density is deprecated in 0.18 and will be removed in 0.20.\n",
      "  warnings.warn(msg, category=DeprecationWarning)\n",
      "/usr/local/lib/python2.7/dist-packages/sklearn/utils/deprecation.py:70: DeprecationWarning: Function log_multivariate_normal_density is deprecated; The function log_multivariate_normal_density is deprecated in 0.18 and will be removed in 0.20.\n",
      "  warnings.warn(msg, category=DeprecationWarning)\n",
      "/usr/local/lib/python2.7/dist-packages/sklearn/utils/deprecation.py:70: DeprecationWarning: Function log_multivariate_normal_density is deprecated; The function log_multivariate_normal_density is deprecated in 0.18 and will be removed in 0.20.\n",
      "  warnings.warn(msg, category=DeprecationWarning)\n",
      "/usr/local/lib/python2.7/dist-packages/sklearn/utils/deprecation.py:70: DeprecationWarning: Function log_multivariate_normal_density is deprecated; The function log_multivariate_normal_density is deprecated in 0.18 and will be removed in 0.20.\n",
      "  warnings.warn(msg, category=DeprecationWarning)\n",
      "/usr/local/lib/python2.7/dist-packages/sklearn/utils/deprecation.py:70: DeprecationWarning: Function log_multivariate_normal_density is deprecated; The function log_multivariate_normal_density is deprecated in 0.18 and will be removed in 0.20.\n",
      "  warnings.warn(msg, category=DeprecationWarning)\n",
      "/usr/local/lib/python2.7/dist-packages/sklearn/utils/deprecation.py:70: DeprecationWarning: Function log_multivariate_normal_density is deprecated; The function log_multivariate_normal_density is deprecated in 0.18 and will be removed in 0.20.\n",
      "  warnings.warn(msg, category=DeprecationWarning)\n",
      "/usr/local/lib/python2.7/dist-packages/sklearn/utils/deprecation.py:70: DeprecationWarning: Function log_multivariate_normal_density is deprecated; The function log_multivariate_normal_density is deprecated in 0.18 and will be removed in 0.20.\n",
      "  warnings.warn(msg, category=DeprecationWarning)\n"
     ]
    },
    {
     "data": {
      "text/plain": [
       "GaussianHMM(algorithm='viterbi', covariance_type='diag', covars_prior=0.01,\n",
       "      covars_weight=1, init_params='stmc', means_prior=0, means_weight=0,\n",
       "      min_covar=0.001, n_components=5, n_iter=100, params='stmc',\n",
       "      random_state=None, startprob_prior=1.0, tol=0.01, transmat_prior=1.0,\n",
       "      verbose=False)"
      ]
     },
     "execution_count": 15,
     "metadata": {},
     "output_type": "execute_result"
    }
   ],
   "source": [
    "model.fit(X)"
   ]
  },
  {
   "cell_type": "code",
   "execution_count": 16,
   "metadata": {
    "collapsed": false,
    "deletable": true,
    "editable": true
   },
   "outputs": [
    {
     "name": "stderr",
     "output_type": "stream",
     "text": [
      "/usr/local/lib/python2.7/dist-packages/sklearn/utils/deprecation.py:70: DeprecationWarning: Function log_multivariate_normal_density is deprecated; The function log_multivariate_normal_density is deprecated in 0.18 and will be removed in 0.20.\n",
      "  warnings.warn(msg, category=DeprecationWarning)\n"
     ]
    }
   ],
   "source": [
    "hidden_states = model.predict(X)"
   ]
  },
  {
   "cell_type": "code",
   "execution_count": 17,
   "metadata": {
    "collapsed": false,
    "deletable": true,
    "editable": true
   },
   "outputs": [
    {
     "name": "stdout",
     "output_type": "stream",
     "text": [
      "[[  8.47221524e-001   1.12468264e-001   4.03102117e-002   3.26019595e-101\n",
      "    3.45779968e-015]\n",
      " [  1.35848510e-001   7.04793607e-001   1.35106457e-001   3.48779495e-003\n",
      "    2.07636312e-002]\n",
      " [  6.88418557e-006   3.60699626e-001   5.38302657e-001   5.18395264e-014\n",
      "    1.00990833e-001]\n",
      " [  0.00000000e+000   0.00000000e+000   5.06975332e-203   0.00000000e+000\n",
      "    1.00000000e+000]\n",
      " [  4.48055799e-028   1.25617937e-009   2.77581247e-001   1.20943699e-002\n",
      "    7.10324382e-001]]\n"
     ]
    }
   ],
   "source": [
    "print model.transmat_"
   ]
  }
 ],
 "metadata": {
  "kernelspec": {
   "display_name": "Python 2",
   "language": "python",
   "name": "python2"
  },
  "language_info": {
   "codemirror_mode": {
    "name": "ipython",
    "version": 2
   },
   "file_extension": ".py",
   "mimetype": "text/x-python",
   "name": "python",
   "nbconvert_exporter": "python",
   "pygments_lexer": "ipython2",
   "version": "2.7.12"
  }
 },
 "nbformat": 4,
 "nbformat_minor": 2
}
